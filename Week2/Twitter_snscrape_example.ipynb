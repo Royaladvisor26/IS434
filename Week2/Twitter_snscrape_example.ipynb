{
 "cells": [
  {
   "cell_type": "markdown",
   "id": "f2184f59",
   "metadata": {},
   "source": [
    "snscrape\n",
    "\n",
    "Ref: https://github.com/JustAnotherArchivist/snscrape"
   ]
  },
  {
   "cell_type": "code",
   "execution_count": 4,
   "id": "fa24f0a6",
   "metadata": {},
   "outputs": [
    {
     "name": "stdout",
     "output_type": "stream",
     "text": [
      "Collecting pandas\n",
      "  Downloading pandas-1.5.3-cp39-cp39-win_amd64.whl (10.9 MB)\n",
      "     --------------------------------------- 10.9/10.9 MB 19.8 MB/s eta 0:00:00\n",
      "Collecting numpy>=1.20.3\n",
      "  Downloading numpy-1.24.1-cp39-cp39-win_amd64.whl (14.9 MB)\n",
      "     --------------------------------------- 14.9/14.9 MB 21.8 MB/s eta 0:00:00\n",
      "Collecting pytz>=2020.1\n",
      "  Downloading pytz-2022.7.1-py2.py3-none-any.whl (499 kB)\n",
      "     ------------------------------------- 499.4/499.4 kB 15.8 MB/s eta 0:00:00\n",
      "Requirement already satisfied: python-dateutil>=2.8.1 in c:\\users\\tranl\\anaconda3\\envs\\py39\\lib\\site-packages (from pandas) (2.8.2)\n",
      "Requirement already satisfied: six>=1.5 in c:\\users\\tranl\\anaconda3\\envs\\py39\\lib\\site-packages (from python-dateutil>=2.8.1->pandas) (1.16.0)\n",
      "Installing collected packages: pytz, numpy, pandas\n",
      "Successfully installed numpy-1.24.1 pandas-1.5.3 pytz-2022.7.1\n"
     ]
    }
   ],
   "source": [
    "# !pip install snscrape\n",
    "!pip install pandas\n",
    "# !python -m ipykernel install --user --name=Python_39\n",
    "# !pip install notebook --upgrade"
   ]
  },
  {
   "cell_type": "code",
   "execution_count": 1,
   "id": "f8bfbdcc",
   "metadata": {},
   "outputs": [
    {
     "name": "stdout",
     "output_type": "stream",
     "text": [
      "Python 3.9.16\n"
     ]
    }
   ],
   "source": [
    "!python --version"
   ]
  },
  {
   "cell_type": "code",
   "execution_count": 5,
   "id": "0d20aaf8",
   "metadata": {},
   "outputs": [],
   "source": [
    "import snscrape.modules.twitter as sntwitter\n",
    "import pandas as pd"
   ]
  },
  {
   "cell_type": "markdown",
   "id": "2736d951",
   "metadata": {},
   "source": [
    "Scraping a specific Twitter user’s tweets\n",
    "\n",
    "Let's use this handle: @KimKardashian\n",
    "\n",
    "Using the code, we can scrape 100 tweets from Twitter user @KimKardashian.\n",
    "We then pulled the DateTime, tweet id, text, and username attributes from the tweet objects."
   ]
  },
  {
   "cell_type": "code",
   "execution_count": 6,
   "id": "4201a1f0",
   "metadata": {},
   "outputs": [
    {
     "name": "stderr",
     "output_type": "stream",
     "text": [
      "C:\\Users\\tranl\\AppData\\Local\\Temp\\ipykernel_25304\\4053890106.py:13: FutureWarning: content is deprecated, use rawContent instead\n",
      "  tweets_list1.append([tweet.date, tweet.id, tweet.content, tweet.user.username])\n"
     ]
    }
   ],
   "source": [
    "# Creating list to append tweet data \n",
    "tweets_list1 = []\n",
    "\n",
    "# Using TwitterSearchScraper to scrape data and append tweets to list\n",
    "handle = 'KimKardashian'\n",
    "\n",
    "# declare a username \n",
    "for i, tweet in enumerate(sntwitter.TwitterSearchScraper('from:' + handle).get_items()): \n",
    "    if i > 10: #number of tweets you want to scrape\n",
    "        break\n",
    "        \n",
    "    #declare the attributes to be returned\n",
    "    tweets_list1.append([tweet.date, tweet.id, tweet.content, tweet.user.username])\n",
    "    \n",
    "# Creating a dataframe from the tweets list above \n",
    "tweets_df1 = pd.DataFrame(tweets_list1, columns=['Datetime', 'Tweet Id', 'Text', 'Username'])"
   ]
  },
  {
   "cell_type": "code",
   "execution_count": 7,
   "id": "8eacefed",
   "metadata": {},
   "outputs": [
    {
     "data": {
      "text/html": [
       "<div>\n",
       "<style scoped>\n",
       "    .dataframe tbody tr th:only-of-type {\n",
       "        vertical-align: middle;\n",
       "    }\n",
       "\n",
       "    .dataframe tbody tr th {\n",
       "        vertical-align: top;\n",
       "    }\n",
       "\n",
       "    .dataframe thead th {\n",
       "        text-align: right;\n",
       "    }\n",
       "</style>\n",
       "<table border=\"1\" class=\"dataframe\">\n",
       "  <thead>\n",
       "    <tr style=\"text-align: right;\">\n",
       "      <th></th>\n",
       "      <th>Datetime</th>\n",
       "      <th>Tweet Id</th>\n",
       "      <th>Text</th>\n",
       "      <th>Username</th>\n",
       "    </tr>\n",
       "  </thead>\n",
       "  <tbody>\n",
       "    <tr>\n",
       "      <th>0</th>\n",
       "      <td>2023-01-18 19:47:31+00:00</td>\n",
       "      <td>1615798058083618823</td>\n",
       "      <td>@itss_haleyy Me too! The bribes and bet losing...</td>\n",
       "      <td>KimKardashian</td>\n",
       "    </tr>\n",
       "    <tr>\n",
       "      <th>1</th>\n",
       "      <td>2023-01-15 17:23:44+00:00</td>\n",
       "      <td>1614674708586430464</td>\n",
       "      <td>My twin. Happy 5th Birthday. I really can’t be...</td>\n",
       "      <td>KimKardashian</td>\n",
       "    </tr>\n",
       "    <tr>\n",
       "      <th>2</th>\n",
       "      <td>2023-01-10 17:14:33+00:00</td>\n",
       "      <td>1612860460361224193</td>\n",
       "      <td>JUST DROPPED: @SKIMS NEW FITS EVERYBODY BRAS.\\...</td>\n",
       "      <td>KimKardashian</td>\n",
       "    </tr>\n",
       "    <tr>\n",
       "      <th>3</th>\n",
       "      <td>2023-01-04 04:27:28+00:00</td>\n",
       "      <td>1610493088262414336</td>\n",
       "      <td>♥️ night! ♥️ https://t.co/Y7sp7TdPq6</td>\n",
       "      <td>KimKardashian</td>\n",
       "    </tr>\n",
       "    <tr>\n",
       "      <th>4</th>\n",
       "      <td>2023-01-02 15:49:27+00:00</td>\n",
       "      <td>1609939939613081602</td>\n",
       "      <td>2023 https://t.co/p9hQcXb66w</td>\n",
       "      <td>KimKardashian</td>\n",
       "    </tr>\n",
       "    <tr>\n",
       "      <th>5</th>\n",
       "      <td>2022-12-27 01:48:28+00:00</td>\n",
       "      <td>1607553971069276160</td>\n",
       "      <td>♥️ https://t.co/pvNTKOBv8y</td>\n",
       "      <td>KimKardashian</td>\n",
       "    </tr>\n",
       "    <tr>\n",
       "      <th>6</th>\n",
       "      <td>2022-12-27 01:47:18+00:00</td>\n",
       "      <td>1607553679925862402</td>\n",
       "      <td>♥️ https://t.co/PludyOqGTd</td>\n",
       "      <td>KimKardashian</td>\n",
       "    </tr>\n",
       "    <tr>\n",
       "      <th>7</th>\n",
       "      <td>2022-12-26 18:51:22+00:00</td>\n",
       "      <td>1607449005121802241</td>\n",
       "      <td>Happy Holidays https://t.co/cCO9KSp6S3</td>\n",
       "      <td>KimKardashian</td>\n",
       "    </tr>\n",
       "    <tr>\n",
       "      <th>8</th>\n",
       "      <td>2022-12-26 18:51:06+00:00</td>\n",
       "      <td>1607448938189131778</td>\n",
       "      <td>Happy Holidays https://t.co/26fQv9hhnX</td>\n",
       "      <td>KimKardashian</td>\n",
       "    </tr>\n",
       "    <tr>\n",
       "      <th>9</th>\n",
       "      <td>2022-12-26 02:44:13+00:00</td>\n",
       "      <td>1607205614584999938</td>\n",
       "      <td>Merry Christmas to all and to all a good night...</td>\n",
       "      <td>KimKardashian</td>\n",
       "    </tr>\n",
       "    <tr>\n",
       "      <th>10</th>\n",
       "      <td>2022-12-25 02:44:00+00:00</td>\n",
       "      <td>1606843170788368385</td>\n",
       "      <td>🙋🏻‍♀️ https://t.co/kI34ZTihGe</td>\n",
       "      <td>KimKardashian</td>\n",
       "    </tr>\n",
       "  </tbody>\n",
       "</table>\n",
       "</div>"
      ],
      "text/plain": [
       "                    Datetime             Tweet Id  \\\n",
       "0  2023-01-18 19:47:31+00:00  1615798058083618823   \n",
       "1  2023-01-15 17:23:44+00:00  1614674708586430464   \n",
       "2  2023-01-10 17:14:33+00:00  1612860460361224193   \n",
       "3  2023-01-04 04:27:28+00:00  1610493088262414336   \n",
       "4  2023-01-02 15:49:27+00:00  1609939939613081602   \n",
       "5  2022-12-27 01:48:28+00:00  1607553971069276160   \n",
       "6  2022-12-27 01:47:18+00:00  1607553679925862402   \n",
       "7  2022-12-26 18:51:22+00:00  1607449005121802241   \n",
       "8  2022-12-26 18:51:06+00:00  1607448938189131778   \n",
       "9  2022-12-26 02:44:13+00:00  1607205614584999938   \n",
       "10 2022-12-25 02:44:00+00:00  1606843170788368385   \n",
       "\n",
       "                                                 Text       Username  \n",
       "0   @itss_haleyy Me too! The bribes and bet losing...  KimKardashian  \n",
       "1   My twin. Happy 5th Birthday. I really can’t be...  KimKardashian  \n",
       "2   JUST DROPPED: @SKIMS NEW FITS EVERYBODY BRAS.\\...  KimKardashian  \n",
       "3                ♥️ night! ♥️ https://t.co/Y7sp7TdPq6  KimKardashian  \n",
       "4                        2023 https://t.co/p9hQcXb66w  KimKardashian  \n",
       "5                          ♥️ https://t.co/pvNTKOBv8y  KimKardashian  \n",
       "6                          ♥️ https://t.co/PludyOqGTd  KimKardashian  \n",
       "7              Happy Holidays https://t.co/cCO9KSp6S3  KimKardashian  \n",
       "8              Happy Holidays https://t.co/26fQv9hhnX  KimKardashian  \n",
       "9   Merry Christmas to all and to all a good night...  KimKardashian  \n",
       "10                      🙋🏻‍♀️ https://t.co/kI34ZTihGe  KimKardashian  "
      ]
     },
     "execution_count": 7,
     "metadata": {},
     "output_type": "execute_result"
    }
   ],
   "source": [
    "tweets_df1"
   ]
  },
  {
   "cell_type": "markdown",
   "id": "082ce315",
   "metadata": {},
   "source": [
    "Scraping tweets from a text search query\n",
    "\n",
    "Using the code below, we are scraping 100 tweets between June 14, 2020, and August 31, 2021,\n",
    "with the keywords 'SSR Bollywood'.\n",
    "\n",
    "I then pulled attributes DateTime, tweet id, text, and username from the tweet objects."
   ]
  },
  {
   "cell_type": "code",
   "execution_count": null,
   "id": "da724ce0",
   "metadata": {},
   "outputs": [],
   "source": [
    "# Creating list to append tweet data to\n",
    "tweets_list2 = []\n",
    "\n",
    "# search terms\n",
    "search_terms = 'SSR Bollywood'\n",
    "\n",
    "# Using TwitterSearchScraper to scrape data and append tweets to list\n",
    "for i, tweet in enumerate(sntwitter.TwitterSearchScraper(search_terms + ' since:2021-06-14 until:2021-08-31').get_items()):\n",
    "    if i > 100:\n",
    "        break\n",
    "    #declare the attributes to be returned\n",
    "    tweets_list2.append([tweet.date, tweet.id, tweet.content, tweet.user.username])\n",
    "\n",
    "# Creating a dataframe from the tweets list above\n",
    "tweets_df2 = pd.DataFrame(tweets_list2, columns=['Datetime', 'Tweet Id', 'Text', 'Username'])"
   ]
  },
  {
   "cell_type": "code",
   "execution_count": null,
   "id": "10a7ba52",
   "metadata": {},
   "outputs": [],
   "source": [
    "tweets_df2"
   ]
  },
  {
   "cell_type": "code",
   "execution_count": null,
   "id": "191d9a6f",
   "metadata": {},
   "outputs": [],
   "source": []
  }
 ],
 "metadata": {
  "kernelspec": {
   "display_name": "Python 3 (ipykernel)",
   "language": "python",
   "name": "python3"
  },
  "language_info": {
   "codemirror_mode": {
    "name": "ipython",
    "version": 3
   },
   "file_extension": ".py",
   "mimetype": "text/x-python",
   "name": "python",
   "nbconvert_exporter": "python",
   "pygments_lexer": "ipython3",
   "version": "3.9.16"
  }
 },
 "nbformat": 4,
 "nbformat_minor": 5
}
