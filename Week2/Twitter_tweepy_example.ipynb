{
 "cells": [
  {
   "cell_type": "markdown",
   "id": "18ddbdfe",
   "metadata": {},
   "source": [
    "tweepy\n",
    "\n",
    "Official documentation: https://docs.tweepy.org/en/stable/\n",
    "\n",
    "Ref: https://dev.to/twitterdev/a-comprehensive-guide-for-using-the-twitter-api-v2-using-tweepy-in-python-15d9"
   ]
  },
  {
   "cell_type": "code",
   "execution_count": 2,
   "id": "306b13be",
   "metadata": {},
   "outputs": [
    {
     "name": "stdout",
     "output_type": "stream",
     "text": [
      "Collecting tweepy\n",
      "  Using cached tweepy-4.12.1-py3-none-any.whl (101 kB)\n",
      "Collecting requests-oauthlib<2,>=1.2.0\n",
      "  Using cached requests_oauthlib-1.3.1-py2.py3-none-any.whl (23 kB)\n",
      "Collecting oauthlib<4,>=3.2.0\n",
      "  Downloading oauthlib-3.2.2-py3-none-any.whl (151 kB)\n",
      "     -------------------------------------- 151.7/151.7 kB 4.4 MB/s eta 0:00:00\n",
      "Requirement already satisfied: requests<3,>=2.27.0 in c:\\users\\tranl\\anaconda3\\envs\\py39\\lib\\site-packages (from tweepy) (2.28.2)\n",
      "Requirement already satisfied: certifi>=2017.4.17 in c:\\users\\tranl\\anaconda3\\envs\\py39\\lib\\site-packages (from requests<3,>=2.27.0->tweepy) (2022.12.7)\n",
      "Requirement already satisfied: idna<4,>=2.5 in c:\\users\\tranl\\anaconda3\\envs\\py39\\lib\\site-packages (from requests<3,>=2.27.0->tweepy) (3.4)\n",
      "Requirement already satisfied: charset-normalizer<4,>=2 in c:\\users\\tranl\\anaconda3\\envs\\py39\\lib\\site-packages (from requests<3,>=2.27.0->tweepy) (3.0.1)\n",
      "Requirement already satisfied: urllib3<1.27,>=1.21.1 in c:\\users\\tranl\\anaconda3\\envs\\py39\\lib\\site-packages (from requests<3,>=2.27.0->tweepy) (1.26.14)\n",
      "Installing collected packages: oauthlib, requests-oauthlib, tweepy\n",
      "Successfully installed oauthlib-3.2.2 requests-oauthlib-1.3.1 tweepy-4.12.1\n"
     ]
    }
   ],
   "source": [
    "!pip install tweepy"
   ]
  },
  {
   "cell_type": "code",
   "execution_count": 3,
   "id": "1861c207",
   "metadata": {},
   "outputs": [],
   "source": [
    "import tweepy\n",
    "import datetime\n",
    "import pandas as pd\n",
    "import json\n",
    "import requests"
   ]
  },
  {
   "cell_type": "code",
   "execution_count": 4,
   "id": "5ae6445d",
   "metadata": {},
   "outputs": [],
   "source": [
    "# Update this variable with YOUR OWN Twitter Bearer Token\n",
    "BEARER_TOKEN = 'AAAAAAAAAAAAAAAAAAAAAK4QlQEAAAAALR2CuS1t8%2BSL5VUIS8BZhA61jNI%3DArMOmsZoDiebtzyFOCTmcgwQK6wKQJ099SLHywiAnEwJzCTYOy'\n",
    "\n",
    "client = tweepy.Client(bearer_token=BEARER_TOKEN, return_type=requests.Response)"
   ]
  },
  {
   "cell_type": "code",
   "execution_count": 5,
   "id": "4863b02b",
   "metadata": {},
   "outputs": [],
   "source": [
    "'''\n",
    "Searching for Tweets from the last 7 days\n",
    "\n",
    "We can use the search_recent_tweets function available in Tweepy.\n",
    "You will have to pass it a search query to specify the data that you are looking for.\n",
    "\n",
    "Below, we will search for for Tweets from the last days from the \n",
    "Twitter handle realDonaldTrump and we are excluding retweets using -is:retweet.\n",
    "\n",
    "By default, a request returns 10 Tweets.\n",
    "If you want more than 10 Tweets per request, you can specify that using the max_results parameter.\n",
    "The maximum Tweets per request is 100.\n",
    "'''\n",
    "# Replace with your own search query\n",
    "handle = 'KimKardashian'\n",
    "query = 'from:' + handle + ' -is:retweet'\n",
    "\n",
    "tweets1 = client.search_recent_tweets(\n",
    "            query=query,\n",
    "            tweet_fields=['context_annotations', 'created_at'],\n",
    "            max_results=100)"
   ]
  },
  {
   "cell_type": "code",
   "execution_count": 6,
   "id": "5b74f888",
   "metadata": {},
   "outputs": [
    {
     "data": {
      "text/html": [
       "<div>\n",
       "<style scoped>\n",
       "    .dataframe tbody tr th:only-of-type {\n",
       "        vertical-align: middle;\n",
       "    }\n",
       "\n",
       "    .dataframe tbody tr th {\n",
       "        vertical-align: top;\n",
       "    }\n",
       "\n",
       "    .dataframe thead th {\n",
       "        text-align: right;\n",
       "    }\n",
       "</style>\n",
       "<table border=\"1\" class=\"dataframe\">\n",
       "  <thead>\n",
       "    <tr style=\"text-align: right;\">\n",
       "      <th></th>\n",
       "      <th>context_annotations</th>\n",
       "      <th>created_at</th>\n",
       "      <th>text</th>\n",
       "      <th>id</th>\n",
       "      <th>edit_history_tweet_ids</th>\n",
       "    </tr>\n",
       "  </thead>\n",
       "  <tbody>\n",
       "    <tr>\n",
       "      <th>0</th>\n",
       "      <td>[{'domain': {'id': '10', 'name': 'Person', 'de...</td>\n",
       "      <td>2023-01-19T18:28:21.000Z</td>\n",
       "      <td>happy era https://t.co/SeMnCZuFFL</td>\n",
       "      <td>1616140520920842240</td>\n",
       "      <td>[1616140520920842240]</td>\n",
       "    </tr>\n",
       "    <tr>\n",
       "      <th>1</th>\n",
       "      <td>[{'domain': {'id': '10', 'name': 'Person', 'de...</td>\n",
       "      <td>2023-01-18T19:47:31.000Z</td>\n",
       "      <td>@itss_haleyy Me too! The bribes and bet losing...</td>\n",
       "      <td>1615798058083618823</td>\n",
       "      <td>[1615798058083618823]</td>\n",
       "    </tr>\n",
       "    <tr>\n",
       "      <th>2</th>\n",
       "      <td>[{'domain': {'id': '10', 'name': 'Person', 'de...</td>\n",
       "      <td>2023-01-15T17:23:44.000Z</td>\n",
       "      <td>My twin. Happy 5th Birthday. I really can’t be...</td>\n",
       "      <td>1614674708586430464</td>\n",
       "      <td>[1614674708586430464]</td>\n",
       "    </tr>\n",
       "  </tbody>\n",
       "</table>\n",
       "</div>"
      ],
      "text/plain": [
       "                                 context_annotations  \\\n",
       "0  [{'domain': {'id': '10', 'name': 'Person', 'de...   \n",
       "1  [{'domain': {'id': '10', 'name': 'Person', 'de...   \n",
       "2  [{'domain': {'id': '10', 'name': 'Person', 'de...   \n",
       "\n",
       "                 created_at  \\\n",
       "0  2023-01-19T18:28:21.000Z   \n",
       "1  2023-01-18T19:47:31.000Z   \n",
       "2  2023-01-15T17:23:44.000Z   \n",
       "\n",
       "                                                text                   id  \\\n",
       "0                  happy era https://t.co/SeMnCZuFFL  1616140520920842240   \n",
       "1  @itss_haleyy Me too! The bribes and bet losing...  1615798058083618823   \n",
       "2  My twin. Happy 5th Birthday. I really can’t be...  1614674708586430464   \n",
       "\n",
       "  edit_history_tweet_ids  \n",
       "0  [1616140520920842240]  \n",
       "1  [1615798058083618823]  \n",
       "2  [1614674708586430464]  "
      ]
     },
     "execution_count": 6,
     "metadata": {},
     "output_type": "execute_result"
    }
   ],
   "source": [
    "'''\n",
    "Convert to pandas Dataframe\n",
    "'''\n",
    "\n",
    "# Save data as dictionary\n",
    "tweets_dict1 = tweets1.json()\n",
    "\n",
    "# Extract \"data\" value from dictionary\n",
    "tweets_data1 = tweets_dict1['data'] \n",
    "\n",
    "# Transform to pandas Dataframe\n",
    "df1 = pd.json_normalize(tweets_data1)\n",
    "\n",
    "df1"
   ]
  },
  {
   "cell_type": "code",
   "execution_count": null,
   "id": "783614a1",
   "metadata": {},
   "outputs": [],
   "source": [
    "'''\n",
    "If you want to get Tweets for a specific time-period, you can specify the time-period\n",
    "using the start_time and end_time parameters, as shown in the example below:\n",
    "'''\n",
    "\n",
    "# Replace with time period of your choice\n",
    "start_time = '2022-01-15T00:00:00Z'\n",
    "\n",
    "# Replace with time period of your choice\n",
    "end_time = '2022-01-16T00:00:00Z'\n",
    "\n",
    "\n",
    "# Replace with your own search query\n",
    "handle = 'KimKardashian'\n",
    "query = 'from:' + handle + ' -is:retweet'\n",
    "\n",
    "tweets2 = client.search_recent_tweets(\n",
    "            query=query,\n",
    "            tweet_fields=['context_annotations', 'created_at'],\n",
    "            start_time=start_time,\n",
    "            end_time=end_time,\n",
    "            max_results=100)\n",
    "\n",
    "'''\n",
    "Convert to pandas Dataframe\n",
    "'''\n",
    "\n",
    "tweets2.json()"
   ]
  },
  {
   "cell_type": "code",
   "execution_count": null,
   "id": "c154e35a",
   "metadata": {},
   "outputs": [],
   "source": [
    "'''\n",
    "Writing Tweets to a text file\n",
    "\n",
    "This example shows how you can write the Tweet IDs for each Tweet obtained \n",
    "for a search result, to a text file.\n",
    "\n",
    "Make sure to replace the file_name with the a name of your chosing.\n",
    "\n",
    "If you wish to write other fields to the text file, make sure to adjust the script below accordingly.\n",
    "'''\n",
    "\n",
    "file_name = 'tweets.txt'\n",
    "\n",
    "df1.to_csv(file_name, index=False, encoding='utf-8')\n",
    "\n",
    "# If you want a different delimiter, say, tab or '\\t'\n",
    "# You can do:\n",
    "#    df2.to_csv(file_name, index=False, encoding='utf-8', sep='\\t')"
   ]
  },
  {
   "cell_type": "code",
   "execution_count": null,
   "id": "7a91e6b9",
   "metadata": {},
   "outputs": [],
   "source": []
  }
 ],
 "metadata": {
  "kernelspec": {
   "display_name": "Python 3 (ipykernel)",
   "language": "python",
   "name": "python3"
  },
  "language_info": {
   "codemirror_mode": {
    "name": "ipython",
    "version": 3
   },
   "file_extension": ".py",
   "mimetype": "text/x-python",
   "name": "python",
   "nbconvert_exporter": "python",
   "pygments_lexer": "ipython3",
   "version": "3.9.16"
  }
 },
 "nbformat": 4,
 "nbformat_minor": 5
}
