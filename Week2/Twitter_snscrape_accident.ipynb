{
 "cells": [
  {
   "cell_type": "markdown",
   "id": "f2184f59",
   "metadata": {},
   "source": [
    "snscrape\n",
    "\n",
    "Ref: https://github.com/JustAnotherArchivist/snscrape"
   ]
  },
  {
   "cell_type": "code",
   "execution_count": 1,
   "id": "0d20aaf8",
   "metadata": {},
   "outputs": [],
   "source": [
    "import snscrape.modules.twitter as sntwitter\n",
    "import pandas as pd"
   ]
  },
  {
   "cell_type": "markdown",
   "id": "082ce315",
   "metadata": {},
   "source": [
    "Scraping tweets from a text search query\n",
    "\n",
    "Using the code below, we are scraping 100 tweets between Jan 1 2020, and Jan 20 2023,\n",
    "with the keywords 'sanrio'.\n",
    "\n",
    "I then pulled attributes DateTime, tweet id, text, and username from the tweet objects."
   ]
  },
  {
   "cell_type": "code",
   "execution_count": 4,
   "id": "da724ce0",
   "metadata": {},
   "outputs": [
    {
     "name": "stderr",
     "output_type": "stream",
     "text": [
      "C:\\Users\\tranl\\AppData\\Local\\Temp\\ipykernel_10900\\3662093875.py:12: FutureWarning: content is deprecated, use rawContent instead\n",
      "  tweets_list.append([tweet.id, tweet.user.username, tweet.date, tweet.content])\n"
     ]
    }
   ],
   "source": [
    "# Creating list to append tweet data to\n",
    "tweets_list = []\n",
    "\n",
    "# search terms\n",
    "search_terms = 'accident'\n",
    "\n",
    "# Using TwitterSearchScraper to scrape data and append tweets to list\n",
    "for i, tweet in enumerate(sntwitter.TwitterSearchScraper(search_terms + ' lang:en since:2020-01-01 until:2023-01-20').get_items()):\n",
    "    if i > 5000:\n",
    "        break\n",
    "    #declare the attributes to be returned\n",
    "    tweets_list.append([tweet.id, tweet.user.username, tweet.date, tweet.content])\n",
    "\n",
    "# Creating a dataframe from the tweets list above\n",
    "tweets_df = pd.DataFrame(tweets_list, columns=['Tweet Id', 'Username', 'Datetime', 'Text'])"
   ]
  },
  {
   "cell_type": "code",
   "execution_count": 5,
   "id": "10a7ba52",
   "metadata": {},
   "outputs": [
    {
     "data": {
      "text/html": [
       "<div>\n",
       "<style scoped>\n",
       "    .dataframe tbody tr th:only-of-type {\n",
       "        vertical-align: middle;\n",
       "    }\n",
       "\n",
       "    .dataframe tbody tr th {\n",
       "        vertical-align: top;\n",
       "    }\n",
       "\n",
       "    .dataframe thead th {\n",
       "        text-align: right;\n",
       "    }\n",
       "</style>\n",
       "<table border=\"1\" class=\"dataframe\">\n",
       "  <thead>\n",
       "    <tr style=\"text-align: right;\">\n",
       "      <th></th>\n",
       "      <th>Tweet Id</th>\n",
       "      <th>Username</th>\n",
       "      <th>Datetime</th>\n",
       "      <th>Text</th>\n",
       "    </tr>\n",
       "  </thead>\n",
       "  <tbody>\n",
       "    <tr>\n",
       "      <th>0</th>\n",
       "      <td>1616223976317136896</td>\n",
       "      <td>gidakata</td>\n",
       "      <td>2023-01-19 23:59:58+00:00</td>\n",
       "      <td>@TR4NSRACHA oh I always get people by being ve...</td>\n",
       "    </tr>\n",
       "    <tr>\n",
       "      <th>1</th>\n",
       "      <td>1616223967303409672</td>\n",
       "      <td>511dfw</td>\n",
       "      <td>2023-01-19 23:59:56+00:00</td>\n",
       "      <td>accident:US-75  southbound I-635/Exit 21 Dalla...</td>\n",
       "    </tr>\n",
       "    <tr>\n",
       "      <th>2</th>\n",
       "      <td>1616223966766456833</td>\n",
       "      <td>511DFWDallas</td>\n",
       "      <td>2023-01-19 23:59:56+00:00</td>\n",
       "      <td>accident:US-75  southbound I-635/Exit 21 Dalla...</td>\n",
       "    </tr>\n",
       "    <tr>\n",
       "      <th>3</th>\n",
       "      <td>1616223944872452098</td>\n",
       "      <td>drdeepak81</td>\n",
       "      <td>2023-01-19 23:59:51+00:00</td>\n",
       "      <td>@Viswanath507480 Met with an accident around a...</td>\n",
       "    </tr>\n",
       "    <tr>\n",
       "      <th>4</th>\n",
       "      <td>1616223939847680001</td>\n",
       "      <td>rabmcmlxxxvii</td>\n",
       "      <td>2023-01-19 23:59:49+00:00</td>\n",
       "      <td>Makes up a statement about a cause of death, g...</td>\n",
       "    </tr>\n",
       "    <tr>\n",
       "      <th>...</th>\n",
       "      <td>...</td>\n",
       "      <td>...</td>\n",
       "      <td>...</td>\n",
       "      <td>...</td>\n",
       "    </tr>\n",
       "    <tr>\n",
       "      <th>4996</th>\n",
       "      <td>1616159847468212225</td>\n",
       "      <td>ShamsaBatool14</td>\n",
       "      <td>2023-01-19 19:45:09+00:00</td>\n",
       "      <td>Tottenham defender Anton Walkes dies aged 25 i...</td>\n",
       "    </tr>\n",
       "    <tr>\n",
       "      <th>4997</th>\n",
       "      <td>1616159845396135956</td>\n",
       "      <td>themanof68</td>\n",
       "      <td>2023-01-19 19:45:08+00:00</td>\n",
       "      <td>@KylePorterCBS What if Ben Hogan hadn't gotten...</td>\n",
       "    </tr>\n",
       "    <tr>\n",
       "      <th>4998</th>\n",
       "      <td>1616159839779971073</td>\n",
       "      <td>Inugamiz</td>\n",
       "      <td>2023-01-19 19:45:07+00:00</td>\n",
       "      <td>@DineshDSouza No. It was an accident.</td>\n",
       "    </tr>\n",
       "    <tr>\n",
       "      <th>4999</th>\n",
       "      <td>1616159837926080512</td>\n",
       "      <td>IssiahBustillos</td>\n",
       "      <td>2023-01-19 19:45:06+00:00</td>\n",
       "      <td>^^ what happens when you try to workout like n...</td>\n",
       "    </tr>\n",
       "    <tr>\n",
       "      <th>5000</th>\n",
       "      <td>1616159829097070594</td>\n",
       "      <td>CNN</td>\n",
       "      <td>2023-01-19 19:45:04+00:00</td>\n",
       "      <td>Anton Walkes, a defender for Major League Socc...</td>\n",
       "    </tr>\n",
       "  </tbody>\n",
       "</table>\n",
       "<p>5001 rows × 4 columns</p>\n",
       "</div>"
      ],
      "text/plain": [
       "                 Tweet Id         Username                  Datetime  \\\n",
       "0     1616223976317136896         gidakata 2023-01-19 23:59:58+00:00   \n",
       "1     1616223967303409672           511dfw 2023-01-19 23:59:56+00:00   \n",
       "2     1616223966766456833     511DFWDallas 2023-01-19 23:59:56+00:00   \n",
       "3     1616223944872452098       drdeepak81 2023-01-19 23:59:51+00:00   \n",
       "4     1616223939847680001    rabmcmlxxxvii 2023-01-19 23:59:49+00:00   \n",
       "...                   ...              ...                       ...   \n",
       "4996  1616159847468212225   ShamsaBatool14 2023-01-19 19:45:09+00:00   \n",
       "4997  1616159845396135956       themanof68 2023-01-19 19:45:08+00:00   \n",
       "4998  1616159839779971073         Inugamiz 2023-01-19 19:45:07+00:00   \n",
       "4999  1616159837926080512  IssiahBustillos 2023-01-19 19:45:06+00:00   \n",
       "5000  1616159829097070594              CNN 2023-01-19 19:45:04+00:00   \n",
       "\n",
       "                                                   Text  \n",
       "0     @TR4NSRACHA oh I always get people by being ve...  \n",
       "1     accident:US-75  southbound I-635/Exit 21 Dalla...  \n",
       "2     accident:US-75  southbound I-635/Exit 21 Dalla...  \n",
       "3     @Viswanath507480 Met with an accident around a...  \n",
       "4     Makes up a statement about a cause of death, g...  \n",
       "...                                                 ...  \n",
       "4996  Tottenham defender Anton Walkes dies aged 25 i...  \n",
       "4997  @KylePorterCBS What if Ben Hogan hadn't gotten...  \n",
       "4998              @DineshDSouza No. It was an accident.  \n",
       "4999  ^^ what happens when you try to workout like n...  \n",
       "5000  Anton Walkes, a defender for Major League Socc...  \n",
       "\n",
       "[5001 rows x 4 columns]"
      ]
     },
     "execution_count": 5,
     "metadata": {},
     "output_type": "execute_result"
    }
   ],
   "source": [
    "tweets_df"
   ]
  },
  {
   "cell_type": "code",
   "execution_count": 6,
   "id": "191d9a6f",
   "metadata": {},
   "outputs": [],
   "source": [
    "tweets_df.to_csv(\"accident.csv\",index=False)"
   ]
  },
  {
   "cell_type": "code",
   "execution_count": null,
   "id": "5460404d",
   "metadata": {},
   "outputs": [],
   "source": []
  }
 ],
 "metadata": {
  "kernelspec": {
   "display_name": "Python 3 (ipykernel)",
   "language": "python",
   "name": "python3"
  },
  "language_info": {
   "codemirror_mode": {
    "name": "ipython",
    "version": 3
   },
   "file_extension": ".py",
   "mimetype": "text/x-python",
   "name": "python",
   "nbconvert_exporter": "python",
   "pygments_lexer": "ipython3",
   "version": "3.9.16"
  }
 },
 "nbformat": 4,
 "nbformat_minor": 5
}
